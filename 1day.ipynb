{
  "nbformat": 4,
  "nbformat_minor": 0,
  "metadata": {
    "colab": {
      "name": "Untitled0.ipynb",
      "provenance": [],
      "authorship_tag": "ABX9TyNp0ytFGAFqiyskuqbAU4po",
      "include_colab_link": true
    },
    "kernelspec": {
      "name": "python3",
      "display_name": "Python 3"
    },
    "language_info": {
      "name": "python"
    }
  },
  "cells": [
    {
      "cell_type": "markdown",
      "metadata": {
        "id": "view-in-github",
        "colab_type": "text"
      },
      "source": [
        "<a href=\"https://colab.research.google.com/github/tajonly/tajonly/blob/main/1day.ipynb\" target=\"_parent\"><img src=\"https://colab.research.google.com/assets/colab-badge.svg\" alt=\"Open In Colab\"/></a>"
      ]
    },
    {
      "cell_type": "code",
      "execution_count": 4,
      "metadata": {
        "colab": {
          "base_uri": "https://localhost:8080/"
        },
        "id": "A5TuXz_lG81B",
        "outputId": "77d7d71b-0145-4533-cb3a-fc96be4d4898"
      },
      "outputs": [
        {
          "output_type": "stream",
          "name": "stdout",
          "text": [
            "3.7.13\n"
          ]
        }
      ],
      "source": [
        "import sys\n",
        "print(sys.version.split()[0])"
      ]
    },
    {
      "cell_type": "code",
      "source": [
        "import sqlite3\n",
        "print(sqlite3.version)"
      ],
      "metadata": {
        "colab": {
          "base_uri": "https://localhost:8080/"
        },
        "id": "115bREi3IC0E",
        "outputId": "e634bde2-ab85-4c33-939e-afd168f38e5b"
      },
      "execution_count": 5,
      "outputs": [
        {
          "output_type": "stream",
          "name": "stdout",
          "text": [
            "2.6.0\n"
          ]
        }
      ]
    },
    {
      "cell_type": "code",
      "source": [
        "import sqlite3\n",
        "conn = sqlite3.connect(':memory:')\n",
        "cur = conn.cursor()\n",
        "cur.execute('''SELECT sqlite_version()''')\n",
        "version = cur.fetchall()[0][0]\n",
        "print(version)\n",
        "conn.close()"
      ],
      "metadata": {
        "colab": {
          "base_uri": "https://localhost:8080/"
        },
        "id": "9XTc0RxaIHIn",
        "outputId": "21cc735d-0199-40f8-8f87-1ad029c4685d"
      },
      "execution_count": 10,
      "outputs": [
        {
          "output_type": "stream",
          "name": "stdout",
          "text": [
            "3.22.0\n"
          ]
        }
      ]
    }
  ]
}